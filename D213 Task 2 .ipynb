{
 "cells": [
  {
   "cell_type": "code",
   "execution_count": 2,
   "metadata": {},
   "outputs": [
    {
     "name": "stdout",
     "output_type": "stream",
     "text": [
      "3.10.6\n"
     ]
    }
   ],
   "source": [
    "from platform import python_version\n",
    "print (python_version())"
   ]
  },
  {
   "cell_type": "code",
   "execution_count": 3,
   "metadata": {},
   "outputs": [],
   "source": [
    "import warnings\n",
    "warnings.filterwarnings(\"ignore\")"
   ]
  },
  {
   "cell_type": "code",
   "execution_count": 4,
   "metadata": {},
   "outputs": [
    {
     "name": "stdout",
     "output_type": "stream",
     "text": [
      "Requirement already satisfied: pip in c:\\users\\blien\\anaconda3_1\\envs\\tf_new\\lib\\site-packages (22.2.2)\n",
      "Collecting pip\n",
      "  Downloading pip-22.3.1-py3-none-any.whl (2.1 MB)\n",
      "     ---------------------------------------- 2.1/2.1 MB 7.7 MB/s eta 0:00:00\n"
     ]
    },
    {
     "name": "stderr",
     "output_type": "stream",
     "text": [
      "ERROR: To modify pip, please run the following command:\n",
      "C:\\Users\\blien\\anaconda3_1\\envs\\tf_new\\python.exe -m pip install --upgrade pip\n"
     ]
    }
   ],
   "source": [
    "!pip install --upgrade pip"
   ]
  },
  {
   "cell_type": "code",
   "execution_count": 1,
   "metadata": {},
   "outputs": [
    {
     "name": "stdout",
     "output_type": "stream",
     "text": [
      "Collecting tensorflow\n",
      "  Downloading tensorflow-2.6.2-cp36-cp36m-win_amd64.whl (423.3 MB)\n",
      "Collecting astunparse~=1.6.3\n",
      "  Downloading astunparse-1.6.3-py2.py3-none-any.whl (12 kB)\n",
      "Collecting tensorboard<2.7,>=2.6.0\n",
      "  Downloading tensorboard-2.6.0-py3-none-any.whl (5.6 MB)\n",
      "Collecting keras<2.7,>=2.6.0\n",
      "  Downloading keras-2.6.0-py2.py3-none-any.whl (1.3 MB)\n",
      "Collecting numpy~=1.19.2\n",
      "  Downloading numpy-1.19.5-cp36-cp36m-win_amd64.whl (13.2 MB)\n",
      "Collecting protobuf>=3.9.2\n",
      "  Downloading protobuf-3.19.6-cp36-cp36m-win_amd64.whl (897 kB)\n",
      "Collecting flatbuffers~=1.12.0\n",
      "  Downloading flatbuffers-1.12-py2.py3-none-any.whl (15 kB)\n",
      "Collecting opt-einsum~=3.3.0\n",
      "  Downloading opt_einsum-3.3.0-py3-none-any.whl (65 kB)\n",
      "Collecting gast==0.4.0\n",
      "  Downloading gast-0.4.0-py3-none-any.whl (9.8 kB)\n",
      "Collecting wheel~=0.35\n",
      "  Downloading wheel-0.37.1-py2.py3-none-any.whl (35 kB)\n",
      "Collecting tensorflow-estimator<2.7,>=2.6.0\n",
      "  Downloading tensorflow_estimator-2.6.0-py2.py3-none-any.whl (462 kB)\n",
      "Collecting google-pasta~=0.2\n",
      "  Downloading google_pasta-0.2.0-py3-none-any.whl (57 kB)\n",
      "Collecting termcolor~=1.1.0\n",
      "  Downloading termcolor-1.1.0.tar.gz (3.9 kB)\n",
      "  Preparing metadata (setup.py): started\n",
      "  Preparing metadata (setup.py): finished with status 'done'\n",
      "Collecting typing-extensions~=3.7.4\n",
      "  Downloading typing_extensions-3.7.4.3-py3-none-any.whl (22 kB)\n",
      "Collecting wrapt~=1.12.1\n",
      "  Downloading wrapt-1.12.1.tar.gz (27 kB)\n",
      "  Preparing metadata (setup.py): started\n",
      "  Preparing metadata (setup.py): finished with status 'done'\n",
      "Collecting keras-preprocessing~=1.1.2\n",
      "  Downloading Keras_Preprocessing-1.1.2-py2.py3-none-any.whl (42 kB)\n",
      "Collecting h5py~=3.1.0\n",
      "  Downloading h5py-3.1.0-cp36-cp36m-win_amd64.whl (2.7 MB)\n",
      "Collecting clang~=5.0\n",
      "  Downloading clang-5.0.tar.gz (30 kB)\n",
      "  Preparing metadata (setup.py): started\n",
      "  Preparing metadata (setup.py): finished with status 'done'\n",
      "Collecting absl-py~=0.10\n",
      "  Downloading absl_py-0.15.0-py3-none-any.whl (132 kB)\n",
      "Collecting grpcio<2.0,>=1.37.0\n",
      "  Downloading grpcio-1.48.2-cp36-cp36m-win_amd64.whl (3.6 MB)\n",
      "Collecting six~=1.15.0\n",
      "  Downloading six-1.15.0-py2.py3-none-any.whl (10 kB)\n",
      "Collecting cached-property\n",
      "  Downloading cached_property-1.5.2-py2.py3-none-any.whl (7.6 kB)\n",
      "Collecting markdown>=2.6.8\n",
      "  Downloading Markdown-3.3.7-py3-none-any.whl (97 kB)\n",
      "Collecting setuptools>=41.0.0\n",
      "  Downloading setuptools-59.6.0-py3-none-any.whl (952 kB)\n",
      "Collecting requests<3,>=2.21.0\n",
      "  Downloading requests-2.27.1-py2.py3-none-any.whl (63 kB)\n",
      "Collecting werkzeug>=0.11.15\n",
      "  Downloading Werkzeug-2.0.3-py3-none-any.whl (289 kB)\n",
      "Collecting tensorboard-data-server<0.7.0,>=0.6.0\n",
      "  Downloading tensorboard_data_server-0.6.1-py3-none-any.whl (2.4 kB)\n",
      "Collecting tensorboard-plugin-wit>=1.6.0\n",
      "  Downloading tensorboard_plugin_wit-1.8.1-py3-none-any.whl (781 kB)\n",
      "Collecting google-auth<2,>=1.6.3\n",
      "  Downloading google_auth-1.35.0-py2.py3-none-any.whl (152 kB)\n",
      "Collecting google-auth-oauthlib<0.5,>=0.4.1\n",
      "  Downloading google_auth_oauthlib-0.4.6-py2.py3-none-any.whl (18 kB)\n",
      "Collecting cachetools<5.0,>=2.0.0\n",
      "  Downloading cachetools-4.2.4-py3-none-any.whl (10 kB)\n",
      "Collecting rsa<5,>=3.1.4\n",
      "  Downloading rsa-4.9-py3-none-any.whl (34 kB)\n",
      "Collecting pyasn1-modules>=0.2.1\n",
      "  Downloading pyasn1_modules-0.2.8-py2.py3-none-any.whl (155 kB)\n",
      "Collecting requests-oauthlib>=0.7.0\n",
      "  Downloading requests_oauthlib-1.3.1-py2.py3-none-any.whl (23 kB)\n",
      "Collecting importlib-metadata>=4.4\n",
      "  Using cached importlib_metadata-4.8.3-py3-none-any.whl (17 kB)\n",
      "Requirement already satisfied: idna<4,>=2.5 in c:\\program files\\arcgis\\pro\\bin\\python\\envs\\arcgispro-py3\\lib\\site-packages (from requests<3,>=2.21.0->tensorboard<2.7,>=2.6.0->tensorflow) (2.7)\n",
      "Requirement already satisfied: certifi>=2017.4.17 in c:\\program files\\arcgis\\pro\\bin\\python\\envs\\arcgispro-py3\\lib\\site-packages (from requests<3,>=2.21.0->tensorboard<2.7,>=2.6.0->tensorflow) (2018.8.24)\n",
      "Collecting charset-normalizer~=2.0.0\n",
      "  Downloading charset_normalizer-2.0.12-py3-none-any.whl (39 kB)\n",
      "Requirement already satisfied: urllib3<1.27,>=1.21.1 in c:\\program files\\arcgis\\pro\\bin\\python\\envs\\arcgispro-py3\\lib\\site-packages (from requests<3,>=2.21.0->tensorboard<2.7,>=2.6.0->tensorflow) (1.23)\n",
      "Collecting dataclasses\n",
      "  Downloading dataclasses-0.8-py3-none-any.whl (19 kB)\n",
      "Collecting zipp>=0.5\n",
      "  Using cached zipp-3.6.0-py3-none-any.whl (5.3 kB)\n",
      "Collecting pyasn1<0.5.0,>=0.4.6\n",
      "  Downloading pyasn1-0.4.8-py2.py3-none-any.whl (77 kB)\n",
      "Collecting oauthlib>=3.0.0\n",
      "  Downloading oauthlib-3.2.2-py3-none-any.whl (151 kB)\n",
      "Building wheels for collected packages: clang, termcolor, wrapt\n",
      "  Building wheel for clang (setup.py): started\n",
      "  Building wheel for clang (setup.py): finished with status 'done'\n",
      "  Created wheel for clang: filename=clang-5.0-py3-none-any.whl size=30715 sha256=a1e07e3b52fb8c6778111bb3e5c1568474035371147ed884b750f42d84cf2911\n",
      "  Stored in directory: c:\\users\\blien\\appdata\\local\\pip\\cache\\wheels\\22\\4c\\94\\0583f60c9c5b6024ed64f290cb2d43b06bb4f75577dc3c93a7\n",
      "  Building wheel for termcolor (setup.py): started\n",
      "  Building wheel for termcolor (setup.py): finished with status 'done'\n",
      "  Created wheel for termcolor: filename=termcolor-1.1.0-py3-none-any.whl size=4007 sha256=3c98b2976a192d66e2a3182aef1d9b32af7444e0e2c93f4d6e562de2b68a9c86\n",
      "  Stored in directory: c:\\users\\blien\\appdata\\local\\pip\\cache\\wheels\\93\\2a\\eb\\e58dbcbc963549ee4f065ff80a59f274cc7210b6eab962acdc\n",
      "  Building wheel for wrapt (setup.py): started\n",
      "  Building wheel for wrapt (setup.py): finished with status 'done'\n",
      "  Created wheel for wrapt: filename=wrapt-1.12.1-py3-none-any.whl size=18693 sha256=3e89caf44a92984310d9df4718b966725048fef318110e36c05219a275e2fbfb\n",
      "  Stored in directory: c:\\users\\blien\\appdata\\local\\pip\\cache\\wheels\\32\\42\\7f\\23cae9ff6ef66798d00dc5d659088e57dbba01566f6c60db63\n",
      "Successfully built clang termcolor wrapt\n",
      "Installing collected packages: pyasn1, charset-normalizer, zipp, typing-extensions, six, setuptools, rsa, requests, pyasn1-modules, oauthlib, cachetools, requests-oauthlib, importlib-metadata, google-auth, dataclasses, wheel, werkzeug, tensorboard-plugin-wit, tensorboard-data-server, protobuf, numpy, markdown, grpcio, google-auth-oauthlib, cached-property, absl-py, wrapt, termcolor, tensorflow-estimator, tensorboard, opt-einsum, keras-preprocessing, keras, h5py, google-pasta, gast, flatbuffers, clang, astunparse, tensorflow\n",
      "Successfully installed absl-py-0.15.0 astunparse-1.6.3 cached-property-1.5.2 cachetools-4.2.4 charset-normalizer-2.0.12 clang-5.0 dataclasses-0.8 flatbuffers-1.12 gast-0.4.0 google-auth-1.35.0 google-auth-oauthlib-0.4.6 google-pasta-0.2.0 grpcio-1.48.2 h5py-3.1.0 importlib-metadata-4.8.3 keras-2.6.0 keras-preprocessing-1.1.2 markdown-3.3.7 numpy-1.19.5 oauthlib-3.2.2 opt-einsum-3.3.0 protobuf-3.19.6 pyasn1-0.4.8 pyasn1-modules-0.2.8 requests-2.27.1 requests-oauthlib-1.3.1 rsa-4.9 setuptools-59.6.0 six-1.15.0 tensorboard-2.6.0 tensorboard-data-server-0.6.1 tensorboard-plugin-wit-1.8.1 tensorflow-2.6.2 tensorflow-estimator-2.6.0 termcolor-1.1.0 typing-extensions-3.7.4.3 werkzeug-2.0.3 wheel-0.37.1 wrapt-1.12.1 zipp-3.6.0\n"
     ]
    },
    {
     "name": "stderr",
     "output_type": "stream",
     "text": [
      "WARNING: pip is being invoked by an old script wrapper. This will fail in a future version of pip.\n",
      "Please see https://github.com/pypa/pip/issues/5599 for advice on fixing the underlying issue.\n",
      "To avoid this problem you can invoke Python with '-m pip' instead of running pip directly.\n",
      "  WARNING: The script normalizer.exe is installed in 'C:\\Users\\blien\\AppData\\Roaming\\Python\\Python36\\Scripts' which is not on PATH.\n",
      "  Consider adding this directory to PATH or, if you prefer to suppress this warning, use --no-warn-script-location.\n",
      "  WARNING: The scripts pyrsa-decrypt.exe, pyrsa-encrypt.exe, pyrsa-keygen.exe, pyrsa-priv2pub.exe, pyrsa-sign.exe and pyrsa-verify.exe are installed in 'C:\\Users\\blien\\AppData\\Roaming\\Python\\Python36\\Scripts' which is not on PATH.\n",
      "  Consider adding this directory to PATH or, if you prefer to suppress this warning, use --no-warn-script-location.\n",
      "  WARNING: The script wheel.exe is installed in 'C:\\Users\\blien\\AppData\\Roaming\\Python\\Python36\\Scripts' which is not on PATH.\n",
      "  Consider adding this directory to PATH or, if you prefer to suppress this warning, use --no-warn-script-location.\n",
      "  WARNING: The script f2py.exe is installed in 'C:\\Users\\blien\\AppData\\Roaming\\Python\\Python36\\Scripts' which is not on PATH.\n",
      "  Consider adding this directory to PATH or, if you prefer to suppress this warning, use --no-warn-script-location.\n",
      "  WARNING: The script markdown_py.exe is installed in 'C:\\Users\\blien\\AppData\\Roaming\\Python\\Python36\\Scripts' which is not on PATH.\n",
      "  Consider adding this directory to PATH or, if you prefer to suppress this warning, use --no-warn-script-location.\n",
      "  WARNING: The script google-oauthlib-tool.exe is installed in 'C:\\Users\\blien\\AppData\\Roaming\\Python\\Python36\\Scripts' which is not on PATH.\n",
      "  Consider adding this directory to PATH or, if you prefer to suppress this warning, use --no-warn-script-location.\n",
      "  WARNING: The script tensorboard.exe is installed in 'C:\\Users\\blien\\AppData\\Roaming\\Python\\Python36\\Scripts' which is not on PATH.\n",
      "  Consider adding this directory to PATH or, if you prefer to suppress this warning, use --no-warn-script-location.\n",
      "  WARNING: The scripts estimator_ckpt_converter.exe, import_pb_to_tensorboard.exe, saved_model_cli.exe, tensorboard.exe, tf_upgrade_v2.exe, tflite_convert.exe, toco.exe and toco_from_protos.exe are installed in 'C:\\Users\\blien\\AppData\\Roaming\\Python\\Python36\\Scripts' which is not on PATH.\n",
      "  Consider adding this directory to PATH or, if you prefer to suppress this warning, use --no-warn-script-location.\n",
      "ERROR: pip's dependency resolver does not currently take into account all the packages that are installed. This behaviour is the source of the following dependency conflicts.\n",
      "virtualenv 20.16.6 requires importlib-resources>=5.4; python_version < \"3.7\", which is not installed.\n",
      "mlxtend 0.19.0 requires joblib>=0.13.2, which is not installed.\n",
      "mlxtend 0.19.0 requires scikit-learn>=0.20.3, which is not installed.\n",
      "matplotlib 3.3.4 requires pillow>=6.2.0, which is not installed.\n",
      "mkl-random 1.0.1 requires cython, which is not installed.\n",
      "mkl-fft 1.0.4 requires cython, which is not installed.\n",
      "cftime 1.0.0b1 requires cython, which is not installed.\n",
      "mlxtend 0.19.0 requires pandas>=0.24.2, but you have pandas 0.23.4 which is incompatible.\n",
      "mlxtend 0.19.0 requires scipy>=1.2.1, but you have scipy 1.1.0 which is incompatible.\n"
     ]
    }
   ],
   "source": [
    "!pip install --user tensorflow"
   ]
  },
  {
   "cell_type": "code",
   "execution_count": 72,
   "metadata": {},
   "outputs": [
    {
     "ename": "ModuleNotFoundError",
     "evalue": "No module named 'tensorflow'",
     "output_type": "error",
     "traceback": [
      "\u001b[1;31m---------------------------------------------------------------------------\u001b[0m",
      "\u001b[1;31mModuleNotFoundError\u001b[0m                       Traceback (most recent call last)",
      "\u001b[1;32m<ipython-input-72-8a5a1c96a495>\u001b[0m in \u001b[0;36m<module>\u001b[1;34m()\u001b[0m\n\u001b[0;32m      6\u001b[0m \u001b[1;33m\u001b[0m\u001b[0m\n\u001b[0;32m      7\u001b[0m \u001b[1;33m\u001b[0m\u001b[0m\n\u001b[1;32m----> 8\u001b[1;33m \u001b[1;32mimport\u001b[0m \u001b[0mkeras\u001b[0m\u001b[1;33m\u001b[0m\u001b[0m\n\u001b[0m",
      "\u001b[1;32m~\\Anaconda3\\lib\\site-packages\\keras\\__init__.py\u001b[0m in \u001b[0;36m<module>\u001b[1;34m()\u001b[0m\n\u001b[0;32m     18\u001b[0m \u001b[1;33m[\u001b[0m\u001b[0mkeras\u001b[0m\u001b[1;33m.\u001b[0m\u001b[0mio\u001b[0m\u001b[1;33m]\u001b[0m\u001b[1;33m(\u001b[0m\u001b[0mhttps\u001b[0m\u001b[1;33m:\u001b[0m\u001b[1;33m//\u001b[0m\u001b[0mkeras\u001b[0m\u001b[1;33m.\u001b[0m\u001b[0mio\u001b[0m\u001b[1;33m)\u001b[0m\u001b[1;33m.\u001b[0m\u001b[1;33m\u001b[0m\u001b[0m\n\u001b[0;32m     19\u001b[0m \"\"\"\n\u001b[1;32m---> 20\u001b[1;33m \u001b[1;32mfrom\u001b[0m \u001b[0mkeras\u001b[0m \u001b[1;32mimport\u001b[0m \u001b[0mdistribute\u001b[0m\u001b[1;33m\u001b[0m\u001b[0m\n\u001b[0m\u001b[0;32m     21\u001b[0m \u001b[1;32mfrom\u001b[0m \u001b[0mkeras\u001b[0m \u001b[1;32mimport\u001b[0m \u001b[0mmodels\u001b[0m\u001b[1;33m\u001b[0m\u001b[0m\n\u001b[0;32m     22\u001b[0m \u001b[1;32mfrom\u001b[0m \u001b[0mkeras\u001b[0m\u001b[1;33m.\u001b[0m\u001b[0mengine\u001b[0m\u001b[1;33m.\u001b[0m\u001b[0minput_layer\u001b[0m \u001b[1;32mimport\u001b[0m \u001b[0mInput\u001b[0m\u001b[1;33m\u001b[0m\u001b[0m\n",
      "\u001b[1;32m~\\Anaconda3\\lib\\site-packages\\keras\\distribute\\__init__.py\u001b[0m in \u001b[0;36m<module>\u001b[1;34m()\u001b[0m\n\u001b[0;32m     16\u001b[0m \u001b[1;33m\u001b[0m\u001b[0m\n\u001b[0;32m     17\u001b[0m \u001b[1;33m\u001b[0m\u001b[0m\n\u001b[1;32m---> 18\u001b[1;33m \u001b[1;32mfrom\u001b[0m \u001b[0mkeras\u001b[0m\u001b[1;33m.\u001b[0m\u001b[0mdistribute\u001b[0m \u001b[1;32mimport\u001b[0m \u001b[0msidecar_evaluator\u001b[0m\u001b[1;33m\u001b[0m\u001b[0m\n\u001b[0m",
      "\u001b[1;32m~\\Anaconda3\\lib\\site-packages\\keras\\distribute\\sidecar_evaluator.py\u001b[0m in \u001b[0;36m<module>\u001b[1;34m()\u001b[0m\n\u001b[0;32m     15\u001b[0m \u001b[1;34m\"\"\"Python module for evaluation loop.\"\"\"\u001b[0m\u001b[1;33m\u001b[0m\u001b[0m\n\u001b[0;32m     16\u001b[0m \u001b[1;33m\u001b[0m\u001b[0m\n\u001b[1;32m---> 17\u001b[1;33m \u001b[1;32mimport\u001b[0m \u001b[0mtensorflow\u001b[0m\u001b[1;33m.\u001b[0m\u001b[0mcompat\u001b[0m\u001b[1;33m.\u001b[0m\u001b[0mv2\u001b[0m \u001b[1;32mas\u001b[0m \u001b[0mtf\u001b[0m\u001b[1;33m\u001b[0m\u001b[0m\n\u001b[0m\u001b[0;32m     18\u001b[0m \u001b[1;33m\u001b[0m\u001b[0m\n\u001b[0;32m     19\u001b[0m \u001b[1;31m# isort: off\u001b[0m\u001b[1;33m\u001b[0m\u001b[1;33m\u001b[0m\u001b[0m\n",
      "\u001b[1;31mModuleNotFoundError\u001b[0m: No module named 'tensorflow'"
     ]
    }
   ],
   "source": [
    "#loading libraries\n",
    "import sys\n",
    "import os\n",
    "\n",
    "#scikit-learn\n",
    "import keras\n"
   ]
  },
  {
   "cell_type": "code",
   "execution_count": 50,
   "metadata": {},
   "outputs": [
    {
     "name": "stderr",
     "output_type": "stream",
     "text": [
      "WARNING: pip is being invoked by an old script wrapper. This will fail in a future version of pip.\n",
      "Please see https://github.com/pypa/pip/issues/5599 for advice on fixing the underlying issue.\n",
      "To avoid this problem you can invoke Python with '-m pip' instead of running pip directly.\n",
      "WARNING: Ignoring invalid distribution -umpy (c:\\users\\blien\\anaconda3\\lib\\site-packages)\n",
      "WARNING: Ignoring invalid distribution -tatsmodels (c:\\users\\blien\\anaconda3\\lib\\site-packages)\n",
      "WARNING: Ignoring invalid distribution -illow (c:\\users\\blien\\anaconda3\\lib\\site-packages)\n",
      "WARNING: Ignoring invalid distribution -cipy (c:\\users\\blien\\anaconda3\\lib\\site-packages)\n",
      "ERROR: Could not find a version that satisfies the requirement tensorflow==1.2.0 (from versions: none)\n",
      "ERROR: No matching distribution found for tensorflow==1.2.0\n",
      "WARNING: Ignoring invalid distribution -umpy (c:\\users\\blien\\anaconda3\\lib\\site-packages)\n",
      "WARNING: Ignoring invalid distribution -tatsmodels (c:\\users\\blien\\anaconda3\\lib\\site-packages)\n",
      "WARNING: Ignoring invalid distribution -illow (c:\\users\\blien\\anaconda3\\lib\\site-packages)\n",
      "WARNING: Ignoring invalid distribution -cipy (c:\\users\\blien\\anaconda3\\lib\\site-packages)\n"
     ]
    }
   ],
   "source": [
    "!pip install tensorflow==1.2.0 --ignore-installed"
   ]
  },
  {
   "cell_type": "code",
   "execution_count": 53,
   "metadata": {},
   "outputs": [
    {
     "name": "stderr",
     "output_type": "stream",
     "text": [
      "WARNING: pip is being invoked by an old script wrapper. This will fail in a future version of pip.\n",
      "Please see https://github.com/pypa/pip/issues/5599 for advice on fixing the underlying issue.\n",
      "To avoid this problem you can invoke Python with '-m pip' instead of running pip directly.\n",
      "WARNING: Ignoring invalid distribution -umpy (c:\\users\\blien\\anaconda3\\lib\\site-packages)\n",
      "WARNING: Ignoring invalid distribution -tatsmodels (c:\\users\\blien\\anaconda3\\lib\\site-packages)\n",
      "WARNING: Ignoring invalid distribution -illow (c:\\users\\blien\\anaconda3\\lib\\site-packages)\n",
      "WARNING: Ignoring invalid distribution -cipy (c:\\users\\blien\\anaconda3\\lib\\site-packages)\n",
      "WARNING: Package(s) not found: tensorflow\n"
     ]
    }
   ],
   "source": [
    "!pip show tensorflow"
   ]
  },
  {
   "cell_type": "code",
   "execution_count": 51,
   "metadata": {},
   "outputs": [
    {
     "ename": "ModuleNotFoundError",
     "evalue": "No module named 'tensorflow'",
     "output_type": "error",
     "traceback": [
      "\u001b[1;31m---------------------------------------------------------------------------\u001b[0m",
      "\u001b[1;31mModuleNotFoundError\u001b[0m                       Traceback (most recent call last)",
      "\u001b[1;32m<ipython-input-51-81192212390a>\u001b[0m in \u001b[0;36m<module>\u001b[1;34m()\u001b[0m\n\u001b[0;32m      1\u001b[0m \u001b[1;32mimport\u001b[0m \u001b[0mnumpy\u001b[0m \u001b[1;32mas\u001b[0m \u001b[0mnp\u001b[0m\u001b[1;33m\u001b[0m\u001b[0m\n\u001b[1;32m----> 2\u001b[1;33m \u001b[1;32mimport\u001b[0m \u001b[0mtensorflow\u001b[0m \u001b[1;32mas\u001b[0m \u001b[0mtf\u001b[0m\u001b[1;33m\u001b[0m\u001b[0m\n\u001b[0m\u001b[0;32m      3\u001b[0m \u001b[1;33m\u001b[0m\u001b[0m\n\u001b[0;32m      4\u001b[0m \u001b[1;32mfrom\u001b[0m \u001b[0mtensorflow\u001b[0m\u001b[1;33m.\u001b[0m\u001b[0mkeras\u001b[0m\u001b[1;33m.\u001b[0m\u001b[0mdatasets\u001b[0m \u001b[1;32mimport\u001b[0m \u001b[0mimdb\u001b[0m\u001b[1;33m\u001b[0m\u001b[0m\n\u001b[0;32m      5\u001b[0m \u001b[1;32mfrom\u001b[0m \u001b[0mtensorflow\u001b[0m\u001b[1;33m.\u001b[0m\u001b[0mkeras\u001b[0m\u001b[1;33m.\u001b[0m\u001b[0mpreprocessing\u001b[0m\u001b[1;33m.\u001b[0m\u001b[0msequence\u001b[0m \u001b[1;32mimport\u001b[0m \u001b[0mpad_sequences\u001b[0m\u001b[1;33m\u001b[0m\u001b[0m\n",
      "\u001b[1;31mModuleNotFoundError\u001b[0m: No module named 'tensorflow'"
     ]
    }
   ],
   "source": [
    "import numpy as np\n",
    "\n",
    "\n",
    "from tensorflow.keras.datasets import imdb\n",
    "from tensorflow.keras.preprocessing.sequence import pad_sequences\n",
    "import tensorflow\n",
    "\n",
    "\n",
    "import pandas as pd\n",
    "import matplotlib.pyplot as plt\n",
    "from tensorflow.keras.preprocessing.text import Tokenizer\n",
    "from tensorflow.keras.preprocessing.sequence import pad_sequences\n",
    "from tensorflow.keras.models import Sequential\n",
    "from tensorflow.keras.layers import LSTM,Dense, Dropout, SpatialDropout1D\n",
    "from tensorflow.keras.layers import Embedding"
   ]
  },
  {
   "cell_type": "code",
   "execution_count": 2,
   "metadata": {},
   "outputs": [],
   "source": [
    "import pandas as pd\n",
    "import gzip\n",
    "import json\n",
    "\n",
    "def parse(path):\n",
    "  g = gzip.open('C:/Users/blien/Documents/WGU/D213/Task 2/Prime_Pantry_5.json.gz', 'rb')\n",
    "  for l in g:\n",
    "    yield json.loads(l)\n",
    "\n",
    "def getDF(path):\n",
    "  i = 0\n",
    "  df = {}\n",
    "  for d in parse(path):\n",
    "    df[i] = d\n",
    "    i += 1\n",
    "  return pd.DataFrame.from_dict(df, orient='index')\n",
    "\n",
    "df = getDF('C:/Users/blien/Documents/WGU/D213/Task 2/Prime_Pantry_5.json.gz')"
   ]
  },
  {
   "cell_type": "code",
   "execution_count": 3,
   "metadata": {},
   "outputs": [
    {
     "data": {
      "text/html": [
       "<div>\n",
       "<style scoped>\n",
       "    .dataframe tbody tr th:only-of-type {\n",
       "        vertical-align: middle;\n",
       "    }\n",
       "\n",
       "    .dataframe tbody tr th {\n",
       "        vertical-align: top;\n",
       "    }\n",
       "\n",
       "    .dataframe thead th {\n",
       "        text-align: right;\n",
       "    }\n",
       "</style>\n",
       "<table border=\"1\" class=\"dataframe\">\n",
       "  <thead>\n",
       "    <tr style=\"text-align: right;\">\n",
       "      <th></th>\n",
       "      <th>overall</th>\n",
       "      <th>verified</th>\n",
       "      <th>reviewTime</th>\n",
       "      <th>reviewerID</th>\n",
       "      <th>asin</th>\n",
       "      <th>reviewerName</th>\n",
       "      <th>reviewText</th>\n",
       "      <th>summary</th>\n",
       "      <th>unixReviewTime</th>\n",
       "      <th>vote</th>\n",
       "      <th>image</th>\n",
       "      <th>style</th>\n",
       "    </tr>\n",
       "  </thead>\n",
       "  <tbody>\n",
       "    <tr>\n",
       "      <th>0</th>\n",
       "      <td>4.0</td>\n",
       "      <td>True</td>\n",
       "      <td>09 24, 2015</td>\n",
       "      <td>A31Y9ELLA1JUB0</td>\n",
       "      <td>B0000DIWNI</td>\n",
       "      <td>Her Royal Peepness Princess HoneyBunny Blayze</td>\n",
       "      <td>I purchased this Saran premium plastic wrap af...</td>\n",
       "      <td>Pretty Good For plastic Wrap</td>\n",
       "      <td>1443052800</td>\n",
       "      <td>NaN</td>\n",
       "      <td>NaN</td>\n",
       "      <td>NaN</td>\n",
       "    </tr>\n",
       "    <tr>\n",
       "      <th>1</th>\n",
       "      <td>5.0</td>\n",
       "      <td>True</td>\n",
       "      <td>06 23, 2015</td>\n",
       "      <td>A2FYW9VZ0AMXKY</td>\n",
       "      <td>B0000DIWNI</td>\n",
       "      <td>Mary</td>\n",
       "      <td>I am an avid cook and baker.  Saran Premium Pl...</td>\n",
       "      <td>The Best Plastic Wrap for your Cooking, Baking...</td>\n",
       "      <td>1435017600</td>\n",
       "      <td>NaN</td>\n",
       "      <td>NaN</td>\n",
       "      <td>NaN</td>\n",
       "    </tr>\n",
       "    <tr>\n",
       "      <th>2</th>\n",
       "      <td>5.0</td>\n",
       "      <td>True</td>\n",
       "      <td>06 13, 2015</td>\n",
       "      <td>A1NE43T0OM6NNX</td>\n",
       "      <td>B0000DIWNI</td>\n",
       "      <td>Tulay C</td>\n",
       "      <td>Good wrap, keeping it in the fridge makes it e...</td>\n",
       "      <td>Good and strong.</td>\n",
       "      <td>1434153600</td>\n",
       "      <td>NaN</td>\n",
       "      <td>NaN</td>\n",
       "      <td>NaN</td>\n",
       "    </tr>\n",
       "    <tr>\n",
       "      <th>3</th>\n",
       "      <td>4.0</td>\n",
       "      <td>True</td>\n",
       "      <td>06 3, 2015</td>\n",
       "      <td>AHTCPGK2CNPKU</td>\n",
       "      <td>B0000DIWNI</td>\n",
       "      <td>OmaShops</td>\n",
       "      <td>I prefer Saran wrap over other brands. It does...</td>\n",
       "      <td>Doesn't cling as well to dishes as other brand...</td>\n",
       "      <td>1433289600</td>\n",
       "      <td>NaN</td>\n",
       "      <td>NaN</td>\n",
       "      <td>NaN</td>\n",
       "    </tr>\n",
       "    <tr>\n",
       "      <th>4</th>\n",
       "      <td>5.0</td>\n",
       "      <td>True</td>\n",
       "      <td>04 20, 2015</td>\n",
       "      <td>A25SIBTMVXLB59</td>\n",
       "      <td>B0000DIWNI</td>\n",
       "      <td>Nitemanslim</td>\n",
       "      <td>Thanks</td>\n",
       "      <td>Five Stars</td>\n",
       "      <td>1429488000</td>\n",
       "      <td>NaN</td>\n",
       "      <td>NaN</td>\n",
       "      <td>NaN</td>\n",
       "    </tr>\n",
       "  </tbody>\n",
       "</table>\n",
       "</div>"
      ],
      "text/plain": [
       "   overall  verified   reviewTime      reviewerID        asin  \\\n",
       "0      4.0      True  09 24, 2015  A31Y9ELLA1JUB0  B0000DIWNI   \n",
       "1      5.0      True  06 23, 2015  A2FYW9VZ0AMXKY  B0000DIWNI   \n",
       "2      5.0      True  06 13, 2015  A1NE43T0OM6NNX  B0000DIWNI   \n",
       "3      4.0      True   06 3, 2015   AHTCPGK2CNPKU  B0000DIWNI   \n",
       "4      5.0      True  04 20, 2015  A25SIBTMVXLB59  B0000DIWNI   \n",
       "\n",
       "                                    reviewerName  \\\n",
       "0  Her Royal Peepness Princess HoneyBunny Blayze   \n",
       "1                                           Mary   \n",
       "2                                        Tulay C   \n",
       "3                                       OmaShops   \n",
       "4                                    Nitemanslim   \n",
       "\n",
       "                                          reviewText  \\\n",
       "0  I purchased this Saran premium plastic wrap af...   \n",
       "1  I am an avid cook and baker.  Saran Premium Pl...   \n",
       "2  Good wrap, keeping it in the fridge makes it e...   \n",
       "3  I prefer Saran wrap over other brands. It does...   \n",
       "4                                             Thanks   \n",
       "\n",
       "                                             summary  unixReviewTime vote  \\\n",
       "0                       Pretty Good For plastic Wrap      1443052800  NaN   \n",
       "1  The Best Plastic Wrap for your Cooking, Baking...      1435017600  NaN   \n",
       "2                                   Good and strong.      1434153600  NaN   \n",
       "3  Doesn't cling as well to dishes as other brand...      1433289600  NaN   \n",
       "4                                         Five Stars      1429488000  NaN   \n",
       "\n",
       "  image style  \n",
       "0   NaN   NaN  \n",
       "1   NaN   NaN  \n",
       "2   NaN   NaN  \n",
       "3   NaN   NaN  \n",
       "4   NaN   NaN  "
      ]
     },
     "execution_count": 3,
     "metadata": {},
     "output_type": "execute_result"
    }
   ],
   "source": [
    "df.head(5)"
   ]
  },
  {
   "cell_type": "code",
   "execution_count": 4,
   "metadata": {},
   "outputs": [
    {
     "data": {
      "text/plain": [
       "(137788, 12)"
      ]
     },
     "execution_count": 4,
     "metadata": {},
     "output_type": "execute_result"
    }
   ],
   "source": [
    "df.shape"
   ]
  },
  {
   "cell_type": "code",
   "execution_count": 5,
   "metadata": {},
   "outputs": [
    {
     "data": {
      "text/html": [
       "<div>\n",
       "<style scoped>\n",
       "    .dataframe tbody tr th:only-of-type {\n",
       "        vertical-align: middle;\n",
       "    }\n",
       "\n",
       "    .dataframe tbody tr th {\n",
       "        vertical-align: top;\n",
       "    }\n",
       "\n",
       "    .dataframe thead th {\n",
       "        text-align: right;\n",
       "    }\n",
       "</style>\n",
       "<table border=\"1\" class=\"dataframe\">\n",
       "  <thead>\n",
       "    <tr style=\"text-align: right;\">\n",
       "      <th></th>\n",
       "      <th>overall</th>\n",
       "      <th>unixReviewTime</th>\n",
       "    </tr>\n",
       "  </thead>\n",
       "  <tbody>\n",
       "    <tr>\n",
       "      <th>count</th>\n",
       "      <td>137788.000000</td>\n",
       "      <td>1.377880e+05</td>\n",
       "    </tr>\n",
       "    <tr>\n",
       "      <th>mean</th>\n",
       "      <td>4.546223</td>\n",
       "      <td>1.473494e+09</td>\n",
       "    </tr>\n",
       "    <tr>\n",
       "      <th>std</th>\n",
       "      <td>0.907137</td>\n",
       "      <td>3.252124e+07</td>\n",
       "    </tr>\n",
       "    <tr>\n",
       "      <th>min</th>\n",
       "      <td>1.000000</td>\n",
       "      <td>1.144541e+09</td>\n",
       "    </tr>\n",
       "    <tr>\n",
       "      <th>25%</th>\n",
       "      <td>4.000000</td>\n",
       "      <td>1.453594e+09</td>\n",
       "    </tr>\n",
       "    <tr>\n",
       "      <th>50%</th>\n",
       "      <td>5.000000</td>\n",
       "      <td>1.475021e+09</td>\n",
       "    </tr>\n",
       "    <tr>\n",
       "      <th>75%</th>\n",
       "      <td>5.000000</td>\n",
       "      <td>1.495498e+09</td>\n",
       "    </tr>\n",
       "    <tr>\n",
       "      <th>max</th>\n",
       "      <td>5.000000</td>\n",
       "      <td>1.538611e+09</td>\n",
       "    </tr>\n",
       "  </tbody>\n",
       "</table>\n",
       "</div>"
      ],
      "text/plain": [
       "             overall  unixReviewTime\n",
       "count  137788.000000    1.377880e+05\n",
       "mean        4.546223    1.473494e+09\n",
       "std         0.907137    3.252124e+07\n",
       "min         1.000000    1.144541e+09\n",
       "25%         4.000000    1.453594e+09\n",
       "50%         5.000000    1.475021e+09\n",
       "75%         5.000000    1.495498e+09\n",
       "max         5.000000    1.538611e+09"
      ]
     },
     "execution_count": 5,
     "metadata": {},
     "output_type": "execute_result"
    }
   ],
   "source": [
    "df.describe()"
   ]
  },
  {
   "cell_type": "code",
   "execution_count": 6,
   "metadata": {},
   "outputs": [
    {
     "name": "stdout",
     "output_type": "stream",
     "text": [
      "<class 'pandas.core.frame.DataFrame'>\n",
      "Int64Index: 137788 entries, 0 to 137787\n",
      "Data columns (total 12 columns):\n",
      " #   Column          Non-Null Count   Dtype  \n",
      "---  ------          --------------   -----  \n",
      " 0   overall         137788 non-null  float64\n",
      " 1   verified        137788 non-null  bool   \n",
      " 2   reviewTime      137788 non-null  object \n",
      " 3   reviewerID      137788 non-null  object \n",
      " 4   asin            137788 non-null  object \n",
      " 5   reviewerName    137772 non-null  object \n",
      " 6   reviewText      137611 non-null  object \n",
      " 7   summary         137727 non-null  object \n",
      " 8   unixReviewTime  137788 non-null  int64  \n",
      " 9   vote            9437 non-null    object \n",
      " 10  image           665 non-null     object \n",
      " 11  style           1152 non-null    object \n",
      "dtypes: bool(1), float64(1), int64(1), object(9)\n",
      "memory usage: 8.0+ MB\n"
     ]
    }
   ],
   "source": [
    "df.info()"
   ]
  },
  {
   "cell_type": "code",
   "execution_count": 11,
   "metadata": {},
   "outputs": [],
   "source": [
    "df_final = df.drop(['verified', 'reviewTime', 'reviewerID', 'asin', 'reviewerName', 'unixReviewTime', 'vote', 'image', 'style', 'summary'], axis = 1)"
   ]
  },
  {
   "cell_type": "code",
   "execution_count": 13,
   "metadata": {},
   "outputs": [
    {
     "data": {
      "text/html": [
       "<div>\n",
       "<style scoped>\n",
       "    .dataframe tbody tr th:only-of-type {\n",
       "        vertical-align: middle;\n",
       "    }\n",
       "\n",
       "    .dataframe tbody tr th {\n",
       "        vertical-align: top;\n",
       "    }\n",
       "\n",
       "    .dataframe thead th {\n",
       "        text-align: right;\n",
       "    }\n",
       "</style>\n",
       "<table border=\"1\" class=\"dataframe\">\n",
       "  <thead>\n",
       "    <tr style=\"text-align: right;\">\n",
       "      <th></th>\n",
       "      <th>overall</th>\n",
       "      <th>reviewText</th>\n",
       "    </tr>\n",
       "  </thead>\n",
       "  <tbody>\n",
       "    <tr>\n",
       "      <th>0</th>\n",
       "      <td>4.0</td>\n",
       "      <td>I purchased this Saran premium plastic wrap after trying Reynolds press and seal wrap which I would never use again.. There is less static cling to this wrap than I remember. To me this is a good thing because it doesn't stick to its self .\\n\\nThis is my typical complaint with all plastic wraps. When trying to cut them they ball all up and are useless. However they have improved this. Now Saran clings to the bowl or plate you wish to cover.\\n\\nNow if only they could improve the cutters on the boxes so  that the cutters actually cut and scissors weren't required would be better..</td>\n",
       "    </tr>\n",
       "    <tr>\n",
       "      <th>1</th>\n",
       "      <td>5.0</td>\n",
       "      <td>I am an avid cook and baker.  Saran Premium Plastic Wrap is a staple in my pantry and the only plastic wrap I purchase.  I have tried other brands including Glad and have consistently found Saran Wrap to be far superior.\\n\\nSaran Wrap is easy to use.  It's cutting bar cuts the wrap smoothly and the end of the wrap is easy to remove from the roll, doesn't get all sticky and impossible to remove like on some other brands.  Some of the comments mention that Saran Wrap does not cling, but I have never had this problem when using this wrap at room temperature, in the refrigerator, or in the microwave.\\n\\nKeeps food stuffs fresh and wonderful to use to separate layers of freshly baked cookies and brownies stored in containers in the freezer.  I also use this to tightly wrap partially used fruits and vegetable like apples and avocadoes.  Saran Wrap excels at keeping these partially used fruits and vegetables fresh with no browning.  Another great Amazon Prime Pantry value.</td>\n",
       "    </tr>\n",
       "    <tr>\n",
       "      <th>2</th>\n",
       "      <td>5.0</td>\n",
       "      <td>Good wrap, keeping it in the fridge makes it easier to tear. Learned this trick from my sister.</td>\n",
       "    </tr>\n",
       "    <tr>\n",
       "      <th>3</th>\n",
       "      <td>4.0</td>\n",
       "      <td>I prefer Saran wrap over other brands. It doesn't cling as well to dishes, but it tangles less when pulling it out of the box.</td>\n",
       "    </tr>\n",
       "    <tr>\n",
       "      <th>4</th>\n",
       "      <td>5.0</td>\n",
       "      <td>Thanks</td>\n",
       "    </tr>\n",
       "  </tbody>\n",
       "</table>\n",
       "</div>"
      ],
      "text/plain": [
       "   overall  \\\n",
       "0      4.0   \n",
       "1      5.0   \n",
       "2      5.0   \n",
       "3      4.0   \n",
       "4      5.0   \n",
       "\n",
       "                                                                                                                                                                                                                                                                                                                                                                                                                                                                                                                                                                                                                                                                                                                                                                                                                                                                                                                                                                                                             reviewText  \n",
       "0                                                                                                                                                                                                                                                                                                                                                                                                             I purchased this Saran premium plastic wrap after trying Reynolds press and seal wrap which I would never use again.. There is less static cling to this wrap than I remember. To me this is a good thing because it doesn't stick to its self .\\n\\nThis is my typical complaint with all plastic wraps. When trying to cut them they ball all up and are useless. However they have improved this. Now Saran clings to the bowl or plate you wish to cover.\\n\\nNow if only they could improve the cutters on the boxes so  that the cutters actually cut and scissors weren't required would be better..  \n",
       "1  I am an avid cook and baker.  Saran Premium Plastic Wrap is a staple in my pantry and the only plastic wrap I purchase.  I have tried other brands including Glad and have consistently found Saran Wrap to be far superior.\\n\\nSaran Wrap is easy to use.  It's cutting bar cuts the wrap smoothly and the end of the wrap is easy to remove from the roll, doesn't get all sticky and impossible to remove like on some other brands.  Some of the comments mention that Saran Wrap does not cling, but I have never had this problem when using this wrap at room temperature, in the refrigerator, or in the microwave.\\n\\nKeeps food stuffs fresh and wonderful to use to separate layers of freshly baked cookies and brownies stored in containers in the freezer.  I also use this to tightly wrap partially used fruits and vegetable like apples and avocadoes.  Saran Wrap excels at keeping these partially used fruits and vegetables fresh with no browning.  Another great Amazon Prime Pantry value.  \n",
       "2                                                                                                                                                                                                                                                                                                                                                                                                                                                                                                                                                                                                                                                                                                                                                                                                                                                                                                                       Good wrap, keeping it in the fridge makes it easier to tear. Learned this trick from my sister.  \n",
       "3                                                                                                                                                                                                                                                                                                                                                                                                                                                                                                                                                                                                                                                                                                                                                                                                                                                                                        I prefer Saran wrap over other brands. It doesn't cling as well to dishes, but it tangles less when pulling it out of the box.  \n",
       "4                                                                                                                                                                                                                                                                                                                                                                                                                                                                                                                                                                                                                                                                                                                                                                                                                                                                                                                                                                                                                Thanks  "
      ]
     },
     "execution_count": 13,
     "metadata": {},
     "output_type": "execute_result"
    }
   ],
   "source": [
    "pd.set_option('display.max_colwidth', 7000)\n",
    "df_final.head(5)"
   ]
  },
  {
   "cell_type": "code",
   "execution_count": 16,
   "metadata": {},
   "outputs": [
    {
     "data": {
      "text/plain": [
       "<AxesSubplot:xlabel='overall', ylabel='count'>"
      ]
     },
     "execution_count": 16,
     "metadata": {},
     "output_type": "execute_result"
    },
    {
     "data": {
      "image/png": "[encoded data removed]",
      "text/plain": [
       "<Figure size 432x288 with 1 Axes>"
      ]
     },
     "metadata": {},
     "output_type": "display_data"
    }
   ],
   "source": [
    "import seaborn as sns\n",
    "sns.countplot(data = df_final, x = 'overall', palette = 'dark')"
   ]
  },
  {
   "cell_type": "code",
   "execution_count": 18,
   "metadata": {},
   "outputs": [],
   "source": [
    "df_final['overall'] = df['overall'].astype(int)\n",
    "\n",
    "df_text = df_final[['overall', 'reviewText']]"
   ]
  },
  {
   "cell_type": "code",
   "execution_count": 19,
   "metadata": {},
   "outputs": [
    {
     "data": {
      "text/html": [
       "<div>\n",
       "<style scoped>\n",
       "    .dataframe tbody tr th:only-of-type {\n",
       "        vertical-align: middle;\n",
       "    }\n",
       "\n",
       "    .dataframe tbody tr th {\n",
       "        vertical-align: top;\n",
       "    }\n",
       "\n",
       "    .dataframe thead th {\n",
       "        text-align: right;\n",
       "    }\n",
       "</style>\n",
       "<table border=\"1\" class=\"dataframe\">\n",
       "  <thead>\n",
       "    <tr style=\"text-align: right;\">\n",
       "      <th></th>\n",
       "      <th>overall</th>\n",
       "      <th>reviewText</th>\n",
       "    </tr>\n",
       "  </thead>\n",
       "  <tbody>\n",
       "    <tr>\n",
       "      <th>0</th>\n",
       "      <td>4</td>\n",
       "      <td>I purchased this Saran premium plastic wrap after trying Reynolds press and seal wrap which I would never use again.. There is less static cling to this wrap than I remember. To me this is a good thing because it doesn't stick to its self .\\n\\nThis is my typical complaint with all plastic wraps. When trying to cut them they ball all up and are useless. However they have improved this. Now Saran clings to the bowl or plate you wish to cover.\\n\\nNow if only they could improve the cutters on the boxes so  that the cutters actually cut and scissors weren't required would be better..</td>\n",
       "    </tr>\n",
       "    <tr>\n",
       "      <th>1</th>\n",
       "      <td>5</td>\n",
       "      <td>I am an avid cook and baker.  Saran Premium Plastic Wrap is a staple in my pantry and the only plastic wrap I purchase.  I have tried other brands including Glad and have consistently found Saran Wrap to be far superior.\\n\\nSaran Wrap is easy to use.  It's cutting bar cuts the wrap smoothly and the end of the wrap is easy to remove from the roll, doesn't get all sticky and impossible to remove like on some other brands.  Some of the comments mention that Saran Wrap does not cling, but I have never had this problem when using this wrap at room temperature, in the refrigerator, or in the microwave.\\n\\nKeeps food stuffs fresh and wonderful to use to separate layers of freshly baked cookies and brownies stored in containers in the freezer.  I also use this to tightly wrap partially used fruits and vegetable like apples and avocadoes.  Saran Wrap excels at keeping these partially used fruits and vegetables fresh with no browning.  Another great Amazon Prime Pantry value.</td>\n",
       "    </tr>\n",
       "    <tr>\n",
       "      <th>2</th>\n",
       "      <td>5</td>\n",
       "      <td>Good wrap, keeping it in the fridge makes it easier to tear. Learned this trick from my sister.</td>\n",
       "    </tr>\n",
       "    <tr>\n",
       "      <th>3</th>\n",
       "      <td>4</td>\n",
       "      <td>I prefer Saran wrap over other brands. It doesn't cling as well to dishes, but it tangles less when pulling it out of the box.</td>\n",
       "    </tr>\n",
       "    <tr>\n",
       "      <th>4</th>\n",
       "      <td>5</td>\n",
       "      <td>Thanks</td>\n",
       "    </tr>\n",
       "    <tr>\n",
       "      <th>...</th>\n",
       "      <td>...</td>\n",
       "      <td>...</td>\n",
       "    </tr>\n",
       "    <tr>\n",
       "      <th>137783</th>\n",
       "      <td>5</td>\n",
       "      <td>great</td>\n",
       "    </tr>\n",
       "    <tr>\n",
       "      <th>137784</th>\n",
       "      <td>4</td>\n",
       "      <td>These are delicious and healthy snacks!  I with they were more affordable because they're really tasty and convenient.  I purchased these because they're lower in sugar than many other brands and really enjoy them.</td>\n",
       "    </tr>\n",
       "    <tr>\n",
       "      <th>137785</th>\n",
       "      <td>5</td>\n",
       "      <td>Taste not to be believed. Buy a box for my office every week</td>\n",
       "    </tr>\n",
       "    <tr>\n",
       "      <th>137786</th>\n",
       "      <td>5</td>\n",
       "      <td>They are yummy!</td>\n",
       "    </tr>\n",
       "    <tr>\n",
       "      <th>137787</th>\n",
       "      <td>5</td>\n",
       "      <td>Oh so good.</td>\n",
       "    </tr>\n",
       "  </tbody>\n",
       "</table>\n",
       "<p>137611 rows × 2 columns</p>\n",
       "</div>"
      ],
      "text/plain": [
       "        overall  \\\n",
       "0             4   \n",
       "1             5   \n",
       "2             5   \n",
       "3             4   \n",
       "4             5   \n",
       "...         ...   \n",
       "137783        5   \n",
       "137784        4   \n",
       "137785        5   \n",
       "137786        5   \n",
       "137787        5   \n",
       "\n",
       "                                                                                                                                                                                                                                                                                                                                                                                                                                                                                                                                                                                                                                                                                                                                                                                                                                                                                                                                                                                                                  reviewText  \n",
       "0                                                                                                                                                                                                                                                                                                                                                                                                                  I purchased this Saran premium plastic wrap after trying Reynolds press and seal wrap which I would never use again.. There is less static cling to this wrap than I remember. To me this is a good thing because it doesn't stick to its self .\\n\\nThis is my typical complaint with all plastic wraps. When trying to cut them they ball all up and are useless. However they have improved this. Now Saran clings to the bowl or plate you wish to cover.\\n\\nNow if only they could improve the cutters on the boxes so  that the cutters actually cut and scissors weren't required would be better..  \n",
       "1       I am an avid cook and baker.  Saran Premium Plastic Wrap is a staple in my pantry and the only plastic wrap I purchase.  I have tried other brands including Glad and have consistently found Saran Wrap to be far superior.\\n\\nSaran Wrap is easy to use.  It's cutting bar cuts the wrap smoothly and the end of the wrap is easy to remove from the roll, doesn't get all sticky and impossible to remove like on some other brands.  Some of the comments mention that Saran Wrap does not cling, but I have never had this problem when using this wrap at room temperature, in the refrigerator, or in the microwave.\\n\\nKeeps food stuffs fresh and wonderful to use to separate layers of freshly baked cookies and brownies stored in containers in the freezer.  I also use this to tightly wrap partially used fruits and vegetable like apples and avocadoes.  Saran Wrap excels at keeping these partially used fruits and vegetables fresh with no browning.  Another great Amazon Prime Pantry value.  \n",
       "2                                                                                                                                                                                                                                                                                                                                                                                                                                                                                                                                                                                                                                                                                                                                                                                                                                                                                                                            Good wrap, keeping it in the fridge makes it easier to tear. Learned this trick from my sister.  \n",
       "3                                                                                                                                                                                                                                                                                                                                                                                                                                                                                                                                                                                                                                                                                                                                                                                                                                                                                             I prefer Saran wrap over other brands. It doesn't cling as well to dishes, but it tangles less when pulling it out of the box.  \n",
       "4                                                                                                                                                                                                                                                                                                                                                                                                                                                                                                                                                                                                                                                                                                                                                                                                                                                                                                                                                                                                                     Thanks  \n",
       "...                                                                                                                                                                                                                                                                                                                                                                                                                                                                                                                                                                                                                                                                                                                                                                                                                                                                                                                                                                                                                      ...  \n",
       "137783                                                                                                                                                                                                                                                                                                                                                                                                                                                                                                                                                                                                                                                                                                                                                                                                                                                                                                                                                                                                                 great  \n",
       "137784                                                                                                                                                                                                                                                                                                                                                                                                                                                                                                                                                                                                                                                                                                                                                                                                These are delicious and healthy snacks!  I with they were more affordable because they're really tasty and convenient.  I purchased these because they're lower in sugar than many other brands and really enjoy them.  \n",
       "137785                                                                                                                                                                                                                                                                                                                                                                                                                                                                                                                                                                                                                                                                                                                                                                                                                                                                                                                                                          Taste not to be believed. Buy a box for my office every week  \n",
       "137786                                                                                                                                                                                                                                                                                                                                                                                                                                                                                                                                                                                                                                                                                                                                                                                                                                                                                                                                                                                                       They are yummy!  \n",
       "137787                                                                                                                                                                                                                                                                                                                                                                                                                                                                                                                                                                                                                                                                                                                                                                                                                                                                                                                                                                                                           Oh so good.  \n",
       "\n",
       "[137611 rows x 2 columns]"
      ]
     },
     "execution_count": 19,
     "metadata": {},
     "output_type": "execute_result"
    }
   ],
   "source": [
    "df_text.dropna()"
   ]
  },
  {
   "cell_type": "code",
   "execution_count": 21,
   "metadata": {},
   "outputs": [
    {
     "name": "stderr",
     "output_type": "stream",
     "text": [
      "C:\\Users\\blien\\Anaconda3\\lib\\site-packages\\ipykernel_launcher.py:3: SettingWithCopyWarning: \n",
      "A value is trying to be set on a copy of a slice from a DataFrame\n",
      "\n",
      "See the caveats in the documentation: https://pandas.pydata.org/pandas-docs/stable/user_guide/indexing.html#returning-a-view-versus-a-copy\n",
      "  This is separate from the ipykernel package so we can avoid doing imports until\n"
     ]
    }
   ],
   "source": [
    "for i in range (0, len(df_text)- 1):\n",
    "    if type(df_text.iloc[i] ['overall']) != str:\n",
    "        df_text.iloc[i] ['overall'] = str(df_text.iloc[i] ['overall'])"
   ]
  },
  {
   "cell_type": "code",
   "execution_count": 24,
   "metadata": {},
   "outputs": [
    {
     "name": "stdout",
     "output_type": "stream",
     "text": [
      "<class 'pandas.core.frame.DataFrame'>\n",
      "Int64Index: 137788 entries, 0 to 137787\n",
      "Data columns (total 2 columns):\n",
      " #   Column      Non-Null Count   Dtype \n",
      "---  ------      --------------   ----- \n",
      " 0   overall     137788 non-null  int32 \n",
      " 1   reviewText  137611 non-null  object\n",
      "dtypes: int32(1), object(1)\n",
      "memory usage: 6.1+ MB\n"
     ]
    }
   ],
   "source": [
    "df_text.info()"
   ]
  },
  {
   "cell_type": "code",
   "execution_count": 22,
   "metadata": {},
   "outputs": [
    {
     "data": {
      "text/html": [
       "<div>\n",
       "<style scoped>\n",
       "    .dataframe tbody tr th:only-of-type {\n",
       "        vertical-align: middle;\n",
       "    }\n",
       "\n",
       "    .dataframe tbody tr th {\n",
       "        vertical-align: top;\n",
       "    }\n",
       "\n",
       "    .dataframe thead th {\n",
       "        text-align: right;\n",
       "    }\n",
       "</style>\n",
       "<table border=\"1\" class=\"dataframe\">\n",
       "  <thead>\n",
       "    <tr style=\"text-align: right;\">\n",
       "      <th></th>\n",
       "      <th>overall</th>\n",
       "      <th>reviewText</th>\n",
       "    </tr>\n",
       "  </thead>\n",
       "  <tbody>\n",
       "    <tr>\n",
       "      <th>0</th>\n",
       "      <td>4</td>\n",
       "      <td>I purchased this Saran premium plastic wrap after trying Reynolds press and seal wrap which I would never use again.. There is less static cling to this wrap than I remember. To me this is a good thing because it doesn't stick to its self .\\n\\nThis is my typical complaint with all plastic wraps. When trying to cut them they ball all up and are useless. However they have improved this. Now Saran clings to the bowl or plate you wish to cover.\\n\\nNow if only they could improve the cutters on the boxes so  that the cutters actually cut and scissors weren't required would be better..</td>\n",
       "    </tr>\n",
       "    <tr>\n",
       "      <th>1</th>\n",
       "      <td>5</td>\n",
       "      <td>I am an avid cook and baker.  Saran Premium Plastic Wrap is a staple in my pantry and the only plastic wrap I purchase.  I have tried other brands including Glad and have consistently found Saran Wrap to be far superior.\\n\\nSaran Wrap is easy to use.  It's cutting bar cuts the wrap smoothly and the end of the wrap is easy to remove from the roll, doesn't get all sticky and impossible to remove like on some other brands.  Some of the comments mention that Saran Wrap does not cling, but I have never had this problem when using this wrap at room temperature, in the refrigerator, or in the microwave.\\n\\nKeeps food stuffs fresh and wonderful to use to separate layers of freshly baked cookies and brownies stored in containers in the freezer.  I also use this to tightly wrap partially used fruits and vegetable like apples and avocadoes.  Saran Wrap excels at keeping these partially used fruits and vegetables fresh with no browning.  Another great Amazon Prime Pantry value.</td>\n",
       "    </tr>\n",
       "    <tr>\n",
       "      <th>2</th>\n",
       "      <td>5</td>\n",
       "      <td>Good wrap, keeping it in the fridge makes it easier to tear. Learned this trick from my sister.</td>\n",
       "    </tr>\n",
       "    <tr>\n",
       "      <th>3</th>\n",
       "      <td>4</td>\n",
       "      <td>I prefer Saran wrap over other brands. It doesn't cling as well to dishes, but it tangles less when pulling it out of the box.</td>\n",
       "    </tr>\n",
       "    <tr>\n",
       "      <th>4</th>\n",
       "      <td>5</td>\n",
       "      <td>Thanks</td>\n",
       "    </tr>\n",
       "    <tr>\n",
       "      <th>...</th>\n",
       "      <td>...</td>\n",
       "      <td>...</td>\n",
       "    </tr>\n",
       "    <tr>\n",
       "      <th>137783</th>\n",
       "      <td>5</td>\n",
       "      <td>great</td>\n",
       "    </tr>\n",
       "    <tr>\n",
       "      <th>137784</th>\n",
       "      <td>4</td>\n",
       "      <td>These are delicious and healthy snacks!  I with they were more affordable because they're really tasty and convenient.  I purchased these because they're lower in sugar than many other brands and really enjoy them.</td>\n",
       "    </tr>\n",
       "    <tr>\n",
       "      <th>137785</th>\n",
       "      <td>5</td>\n",
       "      <td>Taste not to be believed. Buy a box for my office every week</td>\n",
       "    </tr>\n",
       "    <tr>\n",
       "      <th>137786</th>\n",
       "      <td>5</td>\n",
       "      <td>They are yummy!</td>\n",
       "    </tr>\n",
       "    <tr>\n",
       "      <th>137787</th>\n",
       "      <td>5</td>\n",
       "      <td>Oh so good.</td>\n",
       "    </tr>\n",
       "  </tbody>\n",
       "</table>\n",
       "<p>128679 rows × 2 columns</p>\n",
       "</div>"
      ],
      "text/plain": [
       "        overall  \\\n",
       "0             4   \n",
       "1             5   \n",
       "2             5   \n",
       "3             4   \n",
       "4             5   \n",
       "...         ...   \n",
       "137783        5   \n",
       "137784        4   \n",
       "137785        5   \n",
       "137786        5   \n",
       "137787        5   \n",
       "\n",
       "                                                                                                                                                                                                                                                                                                                                                                                                                                                                                                                                                                                                                                                                                                                                                                                                                                                                                                                                                                                                                  reviewText  \n",
       "0                                                                                                                                                                                                                                                                                                                                                                                                                  I purchased this Saran premium plastic wrap after trying Reynolds press and seal wrap which I would never use again.. There is less static cling to this wrap than I remember. To me this is a good thing because it doesn't stick to its self .\\n\\nThis is my typical complaint with all plastic wraps. When trying to cut them they ball all up and are useless. However they have improved this. Now Saran clings to the bowl or plate you wish to cover.\\n\\nNow if only they could improve the cutters on the boxes so  that the cutters actually cut and scissors weren't required would be better..  \n",
       "1       I am an avid cook and baker.  Saran Premium Plastic Wrap is a staple in my pantry and the only plastic wrap I purchase.  I have tried other brands including Glad and have consistently found Saran Wrap to be far superior.\\n\\nSaran Wrap is easy to use.  It's cutting bar cuts the wrap smoothly and the end of the wrap is easy to remove from the roll, doesn't get all sticky and impossible to remove like on some other brands.  Some of the comments mention that Saran Wrap does not cling, but I have never had this problem when using this wrap at room temperature, in the refrigerator, or in the microwave.\\n\\nKeeps food stuffs fresh and wonderful to use to separate layers of freshly baked cookies and brownies stored in containers in the freezer.  I also use this to tightly wrap partially used fruits and vegetable like apples and avocadoes.  Saran Wrap excels at keeping these partially used fruits and vegetables fresh with no browning.  Another great Amazon Prime Pantry value.  \n",
       "2                                                                                                                                                                                                                                                                                                                                                                                                                                                                                                                                                                                                                                                                                                                                                                                                                                                                                                                            Good wrap, keeping it in the fridge makes it easier to tear. Learned this trick from my sister.  \n",
       "3                                                                                                                                                                                                                                                                                                                                                                                                                                                                                                                                                                                                                                                                                                                                                                                                                                                                                             I prefer Saran wrap over other brands. It doesn't cling as well to dishes, but it tangles less when pulling it out of the box.  \n",
       "4                                                                                                                                                                                                                                                                                                                                                                                                                                                                                                                                                                                                                                                                                                                                                                                                                                                                                                                                                                                                                     Thanks  \n",
       "...                                                                                                                                                                                                                                                                                                                                                                                                                                                                                                                                                                                                                                                                                                                                                                                                                                                                                                                                                                                                                      ...  \n",
       "137783                                                                                                                                                                                                                                                                                                                                                                                                                                                                                                                                                                                                                                                                                                                                                                                                                                                                                                                                                                                                                 great  \n",
       "137784                                                                                                                                                                                                                                                                                                                                                                                                                                                                                                                                                                                                                                                                                                                                                                                                These are delicious and healthy snacks!  I with they were more affordable because they're really tasty and convenient.  I purchased these because they're lower in sugar than many other brands and really enjoy them.  \n",
       "137785                                                                                                                                                                                                                                                                                                                                                                                                                                                                                                                                                                                                                                                                                                                                                                                                                                                                                                                                                          Taste not to be believed. Buy a box for my office every week  \n",
       "137786                                                                                                                                                                                                                                                                                                                                                                                                                                                                                                                                                                                                                                                                                                                                                                                                                                                                                                                                                                                                       They are yummy!  \n",
       "137787                                                                                                                                                                                                                                                                                                                                                                                                                                                                                                                                                                                                                                                                                                                                                                                                                                                                                                                                                                                                           Oh so good.  \n",
       "\n",
       "[128679 rows x 2 columns]"
      ]
     },
     "execution_count": 22,
     "metadata": {},
     "output_type": "execute_result"
    }
   ],
   "source": [
    "df_text[df_text['overall'] != 3]"
   ]
  },
  {
   "cell_type": "code",
   "execution_count": 25,
   "metadata": {},
   "outputs": [
    {
     "data": {
      "text/html": [
       "<div>\n",
       "<style scoped>\n",
       "    .dataframe tbody tr th:only-of-type {\n",
       "        vertical-align: middle;\n",
       "    }\n",
       "\n",
       "    .dataframe tbody tr th {\n",
       "        vertical-align: top;\n",
       "    }\n",
       "\n",
       "    .dataframe thead th {\n",
       "        text-align: right;\n",
       "    }\n",
       "</style>\n",
       "<table border=\"1\" class=\"dataframe\">\n",
       "  <thead>\n",
       "    <tr style=\"text-align: right;\">\n",
       "      <th></th>\n",
       "      <th>overall</th>\n",
       "      <th>reviewText</th>\n",
       "      <th>label</th>\n",
       "    </tr>\n",
       "  </thead>\n",
       "  <tbody>\n",
       "    <tr>\n",
       "      <th>0</th>\n",
       "      <td>4</td>\n",
       "      <td>I purchased this Saran premium plastic wrap after trying Reynolds press and seal wrap which I would never use again.. There is less static cling to this wrap than I remember. To me this is a good thing because it doesn't stick to its self .\\n\\nThis is my typical complaint with all plastic wraps. When trying to cut them they ball all up and are useless. However they have improved this. Now Saran clings to the bowl or plate you wish to cover.\\n\\nNow if only they could improve the cutters on the boxes so  that the cutters actually cut and scissors weren't required would be better..</td>\n",
       "      <td>1</td>\n",
       "    </tr>\n",
       "    <tr>\n",
       "      <th>1</th>\n",
       "      <td>5</td>\n",
       "      <td>I am an avid cook and baker.  Saran Premium Plastic Wrap is a staple in my pantry and the only plastic wrap I purchase.  I have tried other brands including Glad and have consistently found Saran Wrap to be far superior.\\n\\nSaran Wrap is easy to use.  It's cutting bar cuts the wrap smoothly and the end of the wrap is easy to remove from the roll, doesn't get all sticky and impossible to remove like on some other brands.  Some of the comments mention that Saran Wrap does not cling, but I have never had this problem when using this wrap at room temperature, in the refrigerator, or in the microwave.\\n\\nKeeps food stuffs fresh and wonderful to use to separate layers of freshly baked cookies and brownies stored in containers in the freezer.  I also use this to tightly wrap partially used fruits and vegetable like apples and avocadoes.  Saran Wrap excels at keeping these partially used fruits and vegetables fresh with no browning.  Another great Amazon Prime Pantry value.</td>\n",
       "      <td>1</td>\n",
       "    </tr>\n",
       "    <tr>\n",
       "      <th>2</th>\n",
       "      <td>5</td>\n",
       "      <td>Good wrap, keeping it in the fridge makes it easier to tear. Learned this trick from my sister.</td>\n",
       "      <td>1</td>\n",
       "    </tr>\n",
       "    <tr>\n",
       "      <th>3</th>\n",
       "      <td>4</td>\n",
       "      <td>I prefer Saran wrap over other brands. It doesn't cling as well to dishes, but it tangles less when pulling it out of the box.</td>\n",
       "      <td>1</td>\n",
       "    </tr>\n",
       "    <tr>\n",
       "      <th>4</th>\n",
       "      <td>5</td>\n",
       "      <td>Thanks</td>\n",
       "      <td>1</td>\n",
       "    </tr>\n",
       "    <tr>\n",
       "      <th>5</th>\n",
       "      <td>5</td>\n",
       "      <td>really good</td>\n",
       "      <td>1</td>\n",
       "    </tr>\n",
       "    <tr>\n",
       "      <th>6</th>\n",
       "      <td>4</td>\n",
       "      <td>Nice product, not a lot on the roll.</td>\n",
       "      <td>1</td>\n",
       "    </tr>\n",
       "    <tr>\n",
       "      <th>7</th>\n",
       "      <td>5</td>\n",
       "      <td>Great product.</td>\n",
       "      <td>1</td>\n",
       "    </tr>\n",
       "    <tr>\n",
       "      <th>8</th>\n",
       "      <td>4</td>\n",
       "      <td>When one can\"t find the right lid, use this wrap.  It stays in place and keeps food fresh.  I use it to wrap sandwiches as well.  I will purchase it again.  Thanks for keeping it in stock/</td>\n",
       "      <td>1</td>\n",
       "    </tr>\n",
       "    <tr>\n",
       "      <th>9</th>\n",
       "      <td>5</td>\n",
       "      <td>good</td>\n",
       "      <td>1</td>\n",
       "    </tr>\n",
       "  </tbody>\n",
       "</table>\n",
       "</div>"
      ],
      "text/plain": [
       "   overall  \\\n",
       "0        4   \n",
       "1        5   \n",
       "2        5   \n",
       "3        4   \n",
       "4        5   \n",
       "5        5   \n",
       "6        4   \n",
       "7        5   \n",
       "8        4   \n",
       "9        5   \n",
       "\n",
       "                                                                                                                                                                                                                                                                                                                                                                                                                                                                                                                                                                                                                                                                                                                                                                                                                                                                                                                                                                                                             reviewText  \\\n",
       "0                                                                                                                                                                                                                                                                                                                                                                                                             I purchased this Saran premium plastic wrap after trying Reynolds press and seal wrap which I would never use again.. There is less static cling to this wrap than I remember. To me this is a good thing because it doesn't stick to its self .\\n\\nThis is my typical complaint with all plastic wraps. When trying to cut them they ball all up and are useless. However they have improved this. Now Saran clings to the bowl or plate you wish to cover.\\n\\nNow if only they could improve the cutters on the boxes so  that the cutters actually cut and scissors weren't required would be better..   \n",
       "1  I am an avid cook and baker.  Saran Premium Plastic Wrap is a staple in my pantry and the only plastic wrap I purchase.  I have tried other brands including Glad and have consistently found Saran Wrap to be far superior.\\n\\nSaran Wrap is easy to use.  It's cutting bar cuts the wrap smoothly and the end of the wrap is easy to remove from the roll, doesn't get all sticky and impossible to remove like on some other brands.  Some of the comments mention that Saran Wrap does not cling, but I have never had this problem when using this wrap at room temperature, in the refrigerator, or in the microwave.\\n\\nKeeps food stuffs fresh and wonderful to use to separate layers of freshly baked cookies and brownies stored in containers in the freezer.  I also use this to tightly wrap partially used fruits and vegetable like apples and avocadoes.  Saran Wrap excels at keeping these partially used fruits and vegetables fresh with no browning.  Another great Amazon Prime Pantry value.   \n",
       "2                                                                                                                                                                                                                                                                                                                                                                                                                                                                                                                                                                                                                                                                                                                                                                                                                                                                                                                       Good wrap, keeping it in the fridge makes it easier to tear. Learned this trick from my sister.   \n",
       "3                                                                                                                                                                                                                                                                                                                                                                                                                                                                                                                                                                                                                                                                                                                                                                                                                                                                                        I prefer Saran wrap over other brands. It doesn't cling as well to dishes, but it tangles less when pulling it out of the box.   \n",
       "4                                                                                                                                                                                                                                                                                                                                                                                                                                                                                                                                                                                                                                                                                                                                                                                                                                                                                                                                                                                                                Thanks   \n",
       "5                                                                                                                                                                                                                                                                                                                                                                                                                                                                                                                                                                                                                                                                                                                                                                                                                                                                                                                                                                                                           really good   \n",
       "6                                                                                                                                                                                                                                                                                                                                                                                                                                                                                                                                                                                                                                                                                                                                                                                                                                                                                                                                                                                  Nice product, not a lot on the roll.   \n",
       "7                                                                                                                                                                                                                                                                                                                                                                                                                                                                                                                                                                                                                                                                                                                                                                                                                                                                                                                                                                                                        Great product.   \n",
       "8                                                                                                                                                                                                                                                                                                                                                                                                                                                                                                                                                                                                                                                                                                                                                                                                                          When one can\"t find the right lid, use this wrap.  It stays in place and keeps food fresh.  I use it to wrap sandwiches as well.  I will purchase it again.  Thanks for keeping it in stock/   \n",
       "9                                                                                                                                                                                                                                                                                                                                                                                                                                                                                                                                                                                                                                                                                                                                                                                                                                                                                                                                                                                                                  good   \n",
       "\n",
       "   label  \n",
       "0      1  \n",
       "1      1  \n",
       "2      1  \n",
       "3      1  \n",
       "4      1  \n",
       "5      1  \n",
       "6      1  \n",
       "7      1  \n",
       "8      1  \n",
       "9      1  "
      ]
     },
     "execution_count": 25,
     "metadata": {},
     "output_type": "execute_result"
    }
   ],
   "source": [
    "def label(i):\n",
    "    return 1 if i >= 4 else 0\n",
    "df_text['label'] = df_text['overall'].apply(label)\n",
    "df_text.head(10)"
   ]
  },
  {
   "cell_type": "code",
   "execution_count": 27,
   "metadata": {},
   "outputs": [
    {
     "data": {
      "text/plain": [
       "(137788, 2)"
      ]
     },
     "execution_count": 27,
     "metadata": {},
     "output_type": "execute_result"
    }
   ],
   "source": [
    "df_final = df_text.drop(['overall'], axis = 1)\n",
    "df_final.shape"
   ]
  },
  {
   "cell_type": "code",
   "execution_count": 30,
   "metadata": {},
   "outputs": [
    {
     "name": "stdout",
     "output_type": "stream",
     "text": [
      "(16024, 2) (16024, 2)\n"
     ]
    }
   ],
   "source": [
    "positive_df = df_final[df_final['label'] == 1].sample(n=len(df_final[df_final['label'] ==0]), random_state = 15)\n",
    "negative_df = df_final[df_final['label'] == 0]\n",
    "print(positive_df.shape, negative_df.shape)"
   ]
  },
  {
   "cell_type": "code",
   "execution_count": 31,
   "metadata": {},
   "outputs": [],
   "source": [
    "review_df = positive_df.append(negative_df).reset_index(drop = True)"
   ]
  },
  {
   "cell_type": "code",
   "execution_count": 32,
   "metadata": {},
   "outputs": [
    {
     "data": {
      "text/plain": [
       "<AxesSubplot:xlabel='label', ylabel='count'>"
      ]
     },
     "execution_count": 32,
     "metadata": {},
     "output_type": "execute_result"
    },
    {
     "data": {
      "image/png": "[encoded data removed]",
      "text/plain": [
       "<Figure size 432x288 with 1 Axes>"
      ]
     },
     "metadata": {},
     "output_type": "display_data"
    }
   ],
   "source": [
    "sns.countplot(x= 'label', data = review_df)"
   ]
  },
  {
   "cell_type": "code",
   "execution_count": 1,
   "metadata": {},
   "outputs": [
    {
     "ename": "NameError",
     "evalue": "name 'review_df' is not defined",
     "output_type": "error",
     "traceback": [
      "\u001b[1;31m---------------------------------------------------------------------------\u001b[0m",
      "\u001b[1;31mNameError\u001b[0m                                 Traceback (most recent call last)",
      "Cell \u001b[1;32mIn [1], line 4\u001b[0m\n\u001b[0;32m      1\u001b[0m \u001b[38;5;28;01mfrom\u001b[39;00m \u001b[38;5;21;01mkeras\u001b[39;00m\u001b[38;5;21;01m.\u001b[39;00m\u001b[38;5;21;01mpreprocessing\u001b[39;00m\u001b[38;5;21;01m.\u001b[39;00m\u001b[38;5;21;01mtext\u001b[39;00m \u001b[38;5;28;01mimport\u001b[39;00m text_to_word_sequence\n\u001b[0;32m      3\u001b[0m \u001b[38;5;66;03m# estimate the size of the vocabulary\u001b[39;00m\n\u001b[1;32m----> 4\u001b[0m words \u001b[38;5;241m=\u001b[39m \u001b[38;5;28mset\u001b[39m(text_to_word_sequence(\u001b[43mreview_df\u001b[49m))\n\u001b[0;32m      5\u001b[0m vocab_size \u001b[38;5;241m=\u001b[39m \u001b[38;5;28mlen\u001b[39m(words)\n\u001b[0;32m      6\u001b[0m \u001b[38;5;28mprint\u001b[39m(vocab_size)\n",
      "\u001b[1;31mNameError\u001b[0m: name 'review_df' is not defined"
     ]
    }
   ],
   "source": [
    "from keras.preprocessing.text import text_to_word_sequence\n",
    "\n",
    "# estimate the size of the vocabulary\n",
    "words = set(text_to_word_sequence(review_df))\n",
    "vocab_size = len(words)\n",
    "print(vocab_size)"
   ]
  },
  {
   "cell_type": "code",
   "execution_count": 33,
   "metadata": {},
   "outputs": [
    {
     "ename": "NameError",
     "evalue": "name 'Tokenizer' is not defined",
     "output_type": "error",
     "traceback": [
      "\u001b[1;31m---------------------------------------------------------------------------\u001b[0m",
      "\u001b[1;31mNameError\u001b[0m                                 Traceback (most recent call last)",
      "\u001b[1;32m<ipython-input-33-3df2add90e92>\u001b[0m in \u001b[0;36m<module>\u001b[1;34m()\u001b[0m\n\u001b[0;32m      1\u001b[0m \u001b[1;31m#identify vocabualry size\u001b[0m\u001b[1;33m\u001b[0m\u001b[1;33m\u001b[0m\u001b[0m\n\u001b[1;32m----> 2\u001b[1;33m \u001b[0mtokenizer\u001b[0m \u001b[1;33m=\u001b[0m \u001b[0mTokenizer\u001b[0m\u001b[1;33m(\u001b[0m\u001b[1;33m)\u001b[0m\u001b[1;33m\u001b[0m\u001b[0m\n\u001b[0m\u001b[0;32m      3\u001b[0m \u001b[0mF\u001b[0m\u001b[1;33m(\u001b[0m\u001b[0mreview_df\u001b[0m\u001b[1;33m[\u001b[0m\u001b[1;34m'reviewText'\u001b[0m\u001b[1;33m]\u001b[0m\u001b[1;33m)\u001b[0m\u001b[1;33m\u001b[0m\u001b[0m\n\u001b[0;32m      4\u001b[0m \u001b[0mprint\u001b[0m\u001b[1;33m(\u001b[0m\u001b[1;34m\"vocabulary size: \"\u001b[0m\u001b[1;33m,\u001b[0m \u001b[0mlen\u001b[0m\u001b[1;33m(\u001b[0m\u001b[0mtokenizer\u001b[0m\u001b[1;33m.\u001b[0m\u001b[0mword_index\u001b[0m\u001b[1;33m)\u001b[0m \u001b[1;33m+\u001b[0m \u001b[1;36m1\u001b[0m\u001b[1;33m)\u001b[0m\u001b[1;33m\u001b[0m\u001b[0m\n",
      "\u001b[1;31mNameError\u001b[0m: name 'Tokenizer' is not defined"
     ]
    }
   ],
   "source": [
    "#identify vocabualry size\n",
    "tokenizer = Tokenizer()\n",
    "F(review_df['reviewText'])\n",
    "print(\"vocabulary size: \", len(tokenizer.word_index) + 1)"
   ]
  },
  {
   "cell_type": "code",
   "execution_count": null,
   "metadata": {},
   "outputs": [],
   "source": []
  }
 ],
 "metadata": {
  "kernelspec": {
   "display_name": "Python 3 (ipykernel)",
   "language": "python",
   "name": "python3"
  },
  "language_info": {
   "codemirror_mode": {
    "name": "ipython",
    "version": 3
   },
   "file_extension": ".py",
   "mimetype": "text/x-python",
   "name": "python",
   "nbconvert_exporter": "python",
   "pygments_lexer": "ipython3",
   "version": "3.10.6"
  }
 },
 "nbformat": 4,
 "nbformat_minor": 2
}
